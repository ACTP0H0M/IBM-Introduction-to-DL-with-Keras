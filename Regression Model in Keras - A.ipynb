{
 "cells": [
  {
   "cell_type": "markdown",
   "metadata": {},
   "source": [
    "# Regression model in Keras\n",
    "## A - Build a baseline model"
   ]
  },
  {
   "cell_type": "markdown",
   "metadata": {},
   "source": [
    "### Import libraries"
   ]
  },
  {
   "cell_type": "code",
   "execution_count": 1,
   "metadata": {},
   "outputs": [],
   "source": [
    "import pandas as pd\n",
    "import numpy as np"
   ]
  },
  {
   "cell_type": "markdown",
   "metadata": {},
   "source": [
    "### Load data"
   ]
  },
  {
   "cell_type": "code",
   "execution_count": 2,
   "metadata": {},
   "outputs": [
    {
     "data": {
      "text/html": [
       "<div>\n",
       "<style scoped>\n",
       "    .dataframe tbody tr th:only-of-type {\n",
       "        vertical-align: middle;\n",
       "    }\n",
       "\n",
       "    .dataframe tbody tr th {\n",
       "        vertical-align: top;\n",
       "    }\n",
       "\n",
       "    .dataframe thead th {\n",
       "        text-align: right;\n",
       "    }\n",
       "</style>\n",
       "<table border=\"1\" class=\"dataframe\">\n",
       "  <thead>\n",
       "    <tr style=\"text-align: right;\">\n",
       "      <th></th>\n",
       "      <th>Cement</th>\n",
       "      <th>Blast Furnace Slag</th>\n",
       "      <th>Fly Ash</th>\n",
       "      <th>Water</th>\n",
       "      <th>Superplasticizer</th>\n",
       "      <th>Coarse Aggregate</th>\n",
       "      <th>Fine Aggregate</th>\n",
       "      <th>Age</th>\n",
       "      <th>Strength</th>\n",
       "    </tr>\n",
       "  </thead>\n",
       "  <tbody>\n",
       "    <tr>\n",
       "      <th>0</th>\n",
       "      <td>540.0</td>\n",
       "      <td>0.0</td>\n",
       "      <td>0.0</td>\n",
       "      <td>162.0</td>\n",
       "      <td>2.5</td>\n",
       "      <td>1040.0</td>\n",
       "      <td>676.0</td>\n",
       "      <td>28</td>\n",
       "      <td>79.99</td>\n",
       "    </tr>\n",
       "    <tr>\n",
       "      <th>1</th>\n",
       "      <td>540.0</td>\n",
       "      <td>0.0</td>\n",
       "      <td>0.0</td>\n",
       "      <td>162.0</td>\n",
       "      <td>2.5</td>\n",
       "      <td>1055.0</td>\n",
       "      <td>676.0</td>\n",
       "      <td>28</td>\n",
       "      <td>61.89</td>\n",
       "    </tr>\n",
       "    <tr>\n",
       "      <th>2</th>\n",
       "      <td>332.5</td>\n",
       "      <td>142.5</td>\n",
       "      <td>0.0</td>\n",
       "      <td>228.0</td>\n",
       "      <td>0.0</td>\n",
       "      <td>932.0</td>\n",
       "      <td>594.0</td>\n",
       "      <td>270</td>\n",
       "      <td>40.27</td>\n",
       "    </tr>\n",
       "    <tr>\n",
       "      <th>3</th>\n",
       "      <td>332.5</td>\n",
       "      <td>142.5</td>\n",
       "      <td>0.0</td>\n",
       "      <td>228.0</td>\n",
       "      <td>0.0</td>\n",
       "      <td>932.0</td>\n",
       "      <td>594.0</td>\n",
       "      <td>365</td>\n",
       "      <td>41.05</td>\n",
       "    </tr>\n",
       "    <tr>\n",
       "      <th>4</th>\n",
       "      <td>198.6</td>\n",
       "      <td>132.4</td>\n",
       "      <td>0.0</td>\n",
       "      <td>192.0</td>\n",
       "      <td>0.0</td>\n",
       "      <td>978.4</td>\n",
       "      <td>825.5</td>\n",
       "      <td>360</td>\n",
       "      <td>44.30</td>\n",
       "    </tr>\n",
       "  </tbody>\n",
       "</table>\n",
       "</div>"
      ],
      "text/plain": [
       "   Cement  Blast Furnace Slag  Fly Ash  Water  Superplasticizer  \\\n",
       "0   540.0                 0.0      0.0  162.0               2.5   \n",
       "1   540.0                 0.0      0.0  162.0               2.5   \n",
       "2   332.5               142.5      0.0  228.0               0.0   \n",
       "3   332.5               142.5      0.0  228.0               0.0   \n",
       "4   198.6               132.4      0.0  192.0               0.0   \n",
       "\n",
       "   Coarse Aggregate  Fine Aggregate  Age  Strength  \n",
       "0            1040.0           676.0   28     79.99  \n",
       "1            1055.0           676.0   28     61.89  \n",
       "2             932.0           594.0  270     40.27  \n",
       "3             932.0           594.0  365     41.05  \n",
       "4             978.4           825.5  360     44.30  "
      ]
     },
     "execution_count": 2,
     "metadata": {},
     "output_type": "execute_result"
    }
   ],
   "source": [
    "concrete_data = pd.read_csv('https://cocl.us/concrete_data')\n",
    "concrete_data.head()"
   ]
  },
  {
   "cell_type": "markdown",
   "metadata": {},
   "source": [
    "Check dataset"
   ]
  },
  {
   "cell_type": "code",
   "execution_count": 3,
   "metadata": {},
   "outputs": [
    {
     "data": {
      "text/plain": [
       "(1030, 9)"
      ]
     },
     "execution_count": 3,
     "metadata": {},
     "output_type": "execute_result"
    }
   ],
   "source": [
    "concrete_data.shape"
   ]
  },
  {
   "cell_type": "code",
   "execution_count": 4,
   "metadata": {},
   "outputs": [
    {
     "data": {
      "text/plain": [
       "Cement                0\n",
       "Blast Furnace Slag    0\n",
       "Fly Ash               0\n",
       "Water                 0\n",
       "Superplasticizer      0\n",
       "Coarse Aggregate      0\n",
       "Fine Aggregate        0\n",
       "Age                   0\n",
       "Strength              0\n",
       "dtype: int64"
      ]
     },
     "execution_count": 4,
     "metadata": {},
     "output_type": "execute_result"
    }
   ],
   "source": [
    "concrete_data.isnull().sum()"
   ]
  },
  {
   "cell_type": "code",
   "execution_count": 5,
   "metadata": {},
   "outputs": [],
   "source": [
    "concrete_data_columns = concrete_data.columns\n",
    "\n",
    "predictors = concrete_data[concrete_data_columns[concrete_data_columns != 'Strength']] # all columns except Strength\n",
    "target = concrete_data['Strength'] # Strength column"
   ]
  },
  {
   "cell_type": "markdown",
   "metadata": {},
   "source": [
    "Sanity check"
   ]
  },
  {
   "cell_type": "code",
   "execution_count": 6,
   "metadata": {},
   "outputs": [
    {
     "data": {
      "text/html": [
       "<div>\n",
       "<style scoped>\n",
       "    .dataframe tbody tr th:only-of-type {\n",
       "        vertical-align: middle;\n",
       "    }\n",
       "\n",
       "    .dataframe tbody tr th {\n",
       "        vertical-align: top;\n",
       "    }\n",
       "\n",
       "    .dataframe thead th {\n",
       "        text-align: right;\n",
       "    }\n",
       "</style>\n",
       "<table border=\"1\" class=\"dataframe\">\n",
       "  <thead>\n",
       "    <tr style=\"text-align: right;\">\n",
       "      <th></th>\n",
       "      <th>Cement</th>\n",
       "      <th>Blast Furnace Slag</th>\n",
       "      <th>Fly Ash</th>\n",
       "      <th>Water</th>\n",
       "      <th>Superplasticizer</th>\n",
       "      <th>Coarse Aggregate</th>\n",
       "      <th>Fine Aggregate</th>\n",
       "      <th>Age</th>\n",
       "    </tr>\n",
       "  </thead>\n",
       "  <tbody>\n",
       "    <tr>\n",
       "      <th>0</th>\n",
       "      <td>540.0</td>\n",
       "      <td>0.0</td>\n",
       "      <td>0.0</td>\n",
       "      <td>162.0</td>\n",
       "      <td>2.5</td>\n",
       "      <td>1040.0</td>\n",
       "      <td>676.0</td>\n",
       "      <td>28</td>\n",
       "    </tr>\n",
       "    <tr>\n",
       "      <th>1</th>\n",
       "      <td>540.0</td>\n",
       "      <td>0.0</td>\n",
       "      <td>0.0</td>\n",
       "      <td>162.0</td>\n",
       "      <td>2.5</td>\n",
       "      <td>1055.0</td>\n",
       "      <td>676.0</td>\n",
       "      <td>28</td>\n",
       "    </tr>\n",
       "    <tr>\n",
       "      <th>2</th>\n",
       "      <td>332.5</td>\n",
       "      <td>142.5</td>\n",
       "      <td>0.0</td>\n",
       "      <td>228.0</td>\n",
       "      <td>0.0</td>\n",
       "      <td>932.0</td>\n",
       "      <td>594.0</td>\n",
       "      <td>270</td>\n",
       "    </tr>\n",
       "    <tr>\n",
       "      <th>3</th>\n",
       "      <td>332.5</td>\n",
       "      <td>142.5</td>\n",
       "      <td>0.0</td>\n",
       "      <td>228.0</td>\n",
       "      <td>0.0</td>\n",
       "      <td>932.0</td>\n",
       "      <td>594.0</td>\n",
       "      <td>365</td>\n",
       "    </tr>\n",
       "    <tr>\n",
       "      <th>4</th>\n",
       "      <td>198.6</td>\n",
       "      <td>132.4</td>\n",
       "      <td>0.0</td>\n",
       "      <td>192.0</td>\n",
       "      <td>0.0</td>\n",
       "      <td>978.4</td>\n",
       "      <td>825.5</td>\n",
       "      <td>360</td>\n",
       "    </tr>\n",
       "  </tbody>\n",
       "</table>\n",
       "</div>"
      ],
      "text/plain": [
       "   Cement  Blast Furnace Slag  Fly Ash  Water  Superplasticizer  \\\n",
       "0   540.0                 0.0      0.0  162.0               2.5   \n",
       "1   540.0                 0.0      0.0  162.0               2.5   \n",
       "2   332.5               142.5      0.0  228.0               0.0   \n",
       "3   332.5               142.5      0.0  228.0               0.0   \n",
       "4   198.6               132.4      0.0  192.0               0.0   \n",
       "\n",
       "   Coarse Aggregate  Fine Aggregate  Age  \n",
       "0            1040.0           676.0   28  \n",
       "1            1055.0           676.0   28  \n",
       "2             932.0           594.0  270  \n",
       "3             932.0           594.0  365  \n",
       "4             978.4           825.5  360  "
      ]
     },
     "execution_count": 6,
     "metadata": {},
     "output_type": "execute_result"
    }
   ],
   "source": [
    "predictors.head()"
   ]
  },
  {
   "cell_type": "code",
   "execution_count": 7,
   "metadata": {},
   "outputs": [
    {
     "data": {
      "text/plain": [
       "0    79.99\n",
       "1    61.89\n",
       "2    40.27\n",
       "3    41.05\n",
       "4    44.30\n",
       "Name: Strength, dtype: float64"
      ]
     },
     "execution_count": 7,
     "metadata": {},
     "output_type": "execute_result"
    }
   ],
   "source": [
    "target.head()"
   ]
  },
  {
   "cell_type": "markdown",
   "metadata": {},
   "source": [
    "Number of independent variables"
   ]
  },
  {
   "cell_type": "code",
   "execution_count": 8,
   "metadata": {},
   "outputs": [],
   "source": [
    "n_cols = predictors.shape[1]"
   ]
  },
  {
   "cell_type": "markdown",
   "metadata": {},
   "source": [
    "Randomly split the data into a training and test sets by holding 30% of the data for testing"
   ]
  },
  {
   "cell_type": "code",
   "execution_count": 13,
   "metadata": {},
   "outputs": [
    {
     "name": "stdout",
     "output_type": "stream",
     "text": [
      "Training set shapes: (721, 8) (721,)\n",
      "Testing set shapes: (309, 8) (309,)\n"
     ]
    }
   ],
   "source": [
    "from sklearn.model_selection import train_test_split\n",
    "X_train, X_test, y_train, y_test = train_test_split(predictors, target, test_size=0.3, random_state=42)\n",
    "print('Training set shapes: {} {}'.format(X_train.shape, y_train.shape))\n",
    "print('Testing set shapes: {} {}'.format(X_test.shape, y_test.shape))"
   ]
  },
  {
   "cell_type": "markdown",
   "metadata": {},
   "source": [
    "### Build a neural network\n",
    "\n",
    "Characteristics:\n",
    "\n",
    "* One hidden layer of 10 nodes, and a ReLU activation function\n",
    "* Use the **adam** optimizer and the **mean squared error**  as the loss function"
   ]
  },
  {
   "cell_type": "code",
   "execution_count": 9,
   "metadata": {},
   "outputs": [
    {
     "name": "stderr",
     "output_type": "stream",
     "text": [
      "Using TensorFlow backend.\n",
      "/home/jupyterlab/conda/envs/python/lib/python3.6/site-packages/tensorflow/python/framework/dtypes.py:519: FutureWarning: Passing (type, 1) or '1type' as a synonym of type is deprecated; in a future version of numpy, it will be understood as (type, (1,)) / '(1,)type'.\n",
      "  _np_qint8 = np.dtype([(\"qint8\", np.int8, 1)])\n",
      "/home/jupyterlab/conda/envs/python/lib/python3.6/site-packages/tensorflow/python/framework/dtypes.py:520: FutureWarning: Passing (type, 1) or '1type' as a synonym of type is deprecated; in a future version of numpy, it will be understood as (type, (1,)) / '(1,)type'.\n",
      "  _np_quint8 = np.dtype([(\"quint8\", np.uint8, 1)])\n",
      "/home/jupyterlab/conda/envs/python/lib/python3.6/site-packages/tensorflow/python/framework/dtypes.py:521: FutureWarning: Passing (type, 1) or '1type' as a synonym of type is deprecated; in a future version of numpy, it will be understood as (type, (1,)) / '(1,)type'.\n",
      "  _np_qint16 = np.dtype([(\"qint16\", np.int16, 1)])\n",
      "/home/jupyterlab/conda/envs/python/lib/python3.6/site-packages/tensorflow/python/framework/dtypes.py:522: FutureWarning: Passing (type, 1) or '1type' as a synonym of type is deprecated; in a future version of numpy, it will be understood as (type, (1,)) / '(1,)type'.\n",
      "  _np_quint16 = np.dtype([(\"quint16\", np.uint16, 1)])\n",
      "/home/jupyterlab/conda/envs/python/lib/python3.6/site-packages/tensorflow/python/framework/dtypes.py:523: FutureWarning: Passing (type, 1) or '1type' as a synonym of type is deprecated; in a future version of numpy, it will be understood as (type, (1,)) / '(1,)type'.\n",
      "  _np_qint32 = np.dtype([(\"qint32\", np.int32, 1)])\n",
      "/home/jupyterlab/conda/envs/python/lib/python3.6/site-packages/tensorflow/python/framework/dtypes.py:528: FutureWarning: Passing (type, 1) or '1type' as a synonym of type is deprecated; in a future version of numpy, it will be understood as (type, (1,)) / '(1,)type'.\n",
      "  np_resource = np.dtype([(\"resource\", np.ubyte, 1)])\n"
     ]
    }
   ],
   "source": [
    "import keras\n",
    "from keras.models import Sequential\n",
    "from keras.layers import Dense"
   ]
  },
  {
   "cell_type": "markdown",
   "metadata": {},
   "source": [
    "Define regression model"
   ]
  },
  {
   "cell_type": "code",
   "execution_count": 15,
   "metadata": {},
   "outputs": [],
   "source": [
    "def baseline_regression_model():\n",
    "    # create model\n",
    "    model = Sequential()\n",
    "    model.add(Dense(10, activation='relu', input_shape=(n_cols,)))\n",
    "    model.add(Dense(1))\n",
    "    \n",
    "    # compile model\n",
    "    model.compile(optimizer='adam', loss='mean_squared_error')\n",
    "    return model"
   ]
  },
  {
   "cell_type": "markdown",
   "metadata": {},
   "source": [
    "Compile the model"
   ]
  },
  {
   "cell_type": "code",
   "execution_count": 17,
   "metadata": {},
   "outputs": [],
   "source": [
    "model = baseline_regression_model()"
   ]
  },
  {
   "cell_type": "markdown",
   "metadata": {},
   "source": [
    "### Train the model on the training data using 50 epochs"
   ]
  },
  {
   "cell_type": "code",
   "execution_count": 18,
   "metadata": {},
   "outputs": [
    {
     "name": "stdout",
     "output_type": "stream",
     "text": [
      "Train on 504 samples, validate on 217 samples\n",
      "Epoch 1/50\n",
      "504/504 [==============================] - 1s 2ms/step - loss: 25518.8458 - val_loss: 20272.5533\n",
      "Epoch 2/50\n",
      "504/504 [==============================] - 0s 429us/step - loss: 15539.8593 - val_loss: 11159.3869\n",
      "Epoch 3/50\n",
      "504/504 [==============================] - 0s 437us/step - loss: 7538.3936 - val_loss: 4524.1465\n",
      "Epoch 4/50\n",
      "504/504 [==============================] - 0s 476us/step - loss: 2701.4458 - val_loss: 1333.8238\n",
      "Epoch 5/50\n",
      "504/504 [==============================] - 0s 401us/step - loss: 898.3173 - val_loss: 607.0625\n",
      "Epoch 6/50\n",
      "504/504 [==============================] - 0s 898us/step - loss: 620.7228 - val_loss: 535.0875\n",
      "Epoch 7/50\n",
      "504/504 [==============================] - 0s 478us/step - loss: 556.5969 - val_loss: 476.2024\n",
      "Epoch 8/50\n",
      "504/504 [==============================] - 0s 434us/step - loss: 488.9016 - val_loss: 431.3691\n",
      "Epoch 9/50\n",
      "504/504 [==============================] - 0s 470us/step - loss: 437.0172 - val_loss: 393.7778\n",
      "Epoch 10/50\n",
      "504/504 [==============================] - 0s 442us/step - loss: 395.9419 - val_loss: 360.0887\n",
      "Epoch 11/50\n",
      "504/504 [==============================] - 0s 635us/step - loss: 359.0789 - val_loss: 331.6679\n",
      "Epoch 12/50\n",
      "504/504 [==============================] - 0s 483us/step - loss: 330.2026 - val_loss: 309.5275\n",
      "Epoch 13/50\n",
      "504/504 [==============================] - 0s 426us/step - loss: 304.2448 - val_loss: 289.8731\n",
      "Epoch 14/50\n",
      "504/504 [==============================] - 0s 396us/step - loss: 283.9260 - val_loss: 274.5283\n",
      "Epoch 15/50\n",
      "504/504 [==============================] - 0s 589us/step - loss: 266.6705 - val_loss: 258.8909\n",
      "Epoch 16/50\n",
      "504/504 [==============================] - 0s 409us/step - loss: 252.6131 - val_loss: 249.0641\n",
      "Epoch 17/50\n",
      "504/504 [==============================] - 0s 434us/step - loss: 240.9329 - val_loss: 239.8203\n",
      "Epoch 18/50\n",
      "504/504 [==============================] - 0s 398us/step - loss: 231.1894 - val_loss: 233.7758\n",
      "Epoch 19/50\n",
      "504/504 [==============================] - 0s 403us/step - loss: 223.2549 - val_loss: 225.3656\n",
      "Epoch 20/50\n",
      "504/504 [==============================] - 0s 427us/step - loss: 216.0487 - val_loss: 218.9395\n",
      "Epoch 21/50\n",
      "504/504 [==============================] - 0s 430us/step - loss: 210.5930 - val_loss: 217.1138\n",
      "Epoch 22/50\n",
      "504/504 [==============================] - 0s 553us/step - loss: 204.5669 - val_loss: 207.7531\n",
      "Epoch 23/50\n",
      "504/504 [==============================] - 0s 440us/step - loss: 200.2355 - val_loss: 205.0553\n",
      "Epoch 24/50\n",
      "504/504 [==============================] - 0s 469us/step - loss: 195.7394 - val_loss: 202.0586\n",
      "Epoch 25/50\n",
      "504/504 [==============================] - 0s 432us/step - loss: 192.2799 - val_loss: 201.2958\n",
      "Epoch 26/50\n",
      "504/504 [==============================] - 0s 442us/step - loss: 188.7241 - val_loss: 195.0257\n",
      "Epoch 27/50\n",
      "504/504 [==============================] - 0s 426us/step - loss: 185.1574 - val_loss: 190.5581\n",
      "Epoch 28/50\n",
      "504/504 [==============================] - 0s 438us/step - loss: 183.2763 - val_loss: 191.1034\n",
      "Epoch 29/50\n",
      "504/504 [==============================] - 0s 476us/step - loss: 179.2505 - val_loss: 184.9567\n",
      "Epoch 30/50\n",
      "504/504 [==============================] - 0s 477us/step - loss: 177.1759 - val_loss: 183.3397\n",
      "Epoch 31/50\n",
      "504/504 [==============================] - 0s 519us/step - loss: 174.7601 - val_loss: 180.8007\n",
      "Epoch 32/50\n",
      "504/504 [==============================] - 0s 514us/step - loss: 172.6448 - val_loss: 180.6209\n",
      "Epoch 33/50\n",
      "504/504 [==============================] - 0s 475us/step - loss: 170.3033 - val_loss: 177.9048\n",
      "Epoch 34/50\n",
      "504/504 [==============================] - 0s 478us/step - loss: 168.2213 - val_loss: 175.8445\n",
      "Epoch 35/50\n",
      "504/504 [==============================] - 0s 472us/step - loss: 166.4482 - val_loss: 173.6254\n",
      "Epoch 36/50\n",
      "504/504 [==============================] - 0s 522us/step - loss: 164.6993 - val_loss: 172.6236\n",
      "Epoch 37/50\n",
      "504/504 [==============================] - 0s 470us/step - loss: 163.2923 - val_loss: 168.9306\n",
      "Epoch 38/50\n",
      "504/504 [==============================] - 0s 396us/step - loss: 161.5505 - val_loss: 169.4692\n",
      "Epoch 39/50\n",
      "504/504 [==============================] - 0s 464us/step - loss: 160.5243 - val_loss: 167.1626\n",
      "Epoch 40/50\n",
      "504/504 [==============================] - 0s 473us/step - loss: 158.7715 - val_loss: 166.3917\n",
      "Epoch 41/50\n",
      "504/504 [==============================] - 0s 598us/step - loss: 157.5705 - val_loss: 163.0777\n",
      "Epoch 42/50\n",
      "504/504 [==============================] - 0s 410us/step - loss: 157.3949 - val_loss: 164.4437\n",
      "Epoch 43/50\n",
      "504/504 [==============================] - 0s 404us/step - loss: 155.2458 - val_loss: 160.7838\n",
      "Epoch 44/50\n",
      "504/504 [==============================] - 0s 394us/step - loss: 154.1315 - val_loss: 161.0266\n",
      "Epoch 45/50\n",
      "504/504 [==============================] - 0s 504us/step - loss: 153.2539 - val_loss: 160.8217\n",
      "Epoch 46/50\n",
      "504/504 [==============================] - 0s 431us/step - loss: 152.1521 - val_loss: 158.6953\n",
      "Epoch 47/50\n",
      "504/504 [==============================] - 0s 439us/step - loss: 151.2601 - val_loss: 157.2680\n",
      "Epoch 48/50\n",
      "504/504 [==============================] - 0s 391us/step - loss: 150.5211 - val_loss: 157.2783\n",
      "Epoch 49/50\n",
      "504/504 [==============================] - 0s 437us/step - loss: 149.7502 - val_loss: 158.1407\n",
      "Epoch 50/50\n",
      "504/504 [==============================] - 0s 404us/step - loss: 148.9558 - val_loss: 154.3597\n"
     ]
    },
    {
     "data": {
      "text/plain": [
       "<keras.callbacks.History at 0x7effc476c710>"
      ]
     },
     "execution_count": 18,
     "metadata": {},
     "output_type": "execute_result"
    }
   ],
   "source": [
    "model.fit(X_train, y_train, validation_split=0.3, epochs=50, verbose=1)"
   ]
  },
  {
   "cell_type": "markdown",
   "metadata": {},
   "source": [
    "### Evaluate the model on the test data\n",
    "Compute the mean squared error between the predicted concrete strength and the actual concrete strength"
   ]
  },
  {
   "cell_type": "code",
   "execution_count": 19,
   "metadata": {},
   "outputs": [
    {
     "name": "stdout",
     "output_type": "stream",
     "text": [
      "MSE: 154.7548\n"
     ]
    }
   ],
   "source": [
    "from sklearn.metrics import mean_squared_error\n",
    "yhat = model.predict(X_test)\n",
    "print(\"MSE: %.4f\" % mean_squared_error(y_test , yhat))"
   ]
  },
  {
   "cell_type": "markdown",
   "metadata": {},
   "source": [
    "### Repeat splitting, training and evaluation 50 times"
   ]
  },
  {
   "cell_type": "markdown",
   "metadata": {},
   "source": [
    "Create a list of 50 MSE"
   ]
  },
  {
   "cell_type": "code",
   "execution_count": 22,
   "metadata": {},
   "outputs": [
    {
     "name": "stdout",
     "output_type": "stream",
     "text": [
      "Iteration #1 --- MSE: 406.4182\n",
      "Iteration #2 --- MSE: 166.9024\n",
      "Iteration #3 --- MSE: 174.2275\n",
      "Iteration #4 --- MSE: 398.0698\n",
      "Iteration #5 --- MSE: 173.6569\n",
      "Iteration #6 --- MSE: 258.2557\n",
      "Iteration #7 --- MSE: 234.2780\n",
      "Iteration #8 --- MSE: 198.8055\n",
      "Iteration #9 --- MSE: 342.0200\n",
      "Iteration #10 --- MSE: 142.3787\n",
      "Iteration #11 --- MSE: 1025.3545\n",
      "Iteration #12 --- MSE: 122.8591\n",
      "Iteration #13 --- MSE: 373.3029\n",
      "Iteration #14 --- MSE: 249.4491\n",
      "Iteration #15 --- MSE: 1169.2828\n",
      "Iteration #16 --- MSE: 288.4709\n",
      "Iteration #17 --- MSE: 220.5240\n",
      "Iteration #18 --- MSE: 305.2515\n",
      "Iteration #19 --- MSE: 500.5383\n",
      "Iteration #20 --- MSE: 134.4287\n",
      "Iteration #21 --- MSE: 434.6075\n",
      "Iteration #22 --- MSE: 717.6661\n",
      "Iteration #23 --- MSE: 159.5513\n",
      "Iteration #24 --- MSE: 1130.1056\n",
      "Iteration #25 --- MSE: 273.3882\n",
      "Iteration #26 --- MSE: 239.1952\n",
      "Iteration #27 --- MSE: 154.7131\n",
      "Iteration #28 --- MSE: 1256.1881\n",
      "Iteration #29 --- MSE: 140.2253\n",
      "Iteration #30 --- MSE: 120.4231\n",
      "Iteration #31 --- MSE: 225.4212\n",
      "Iteration #32 --- MSE: 1133.5234\n",
      "Iteration #33 --- MSE: 157.6788\n",
      "Iteration #34 --- MSE: 133.3661\n",
      "Iteration #35 --- MSE: 342.6189\n",
      "Iteration #36 --- MSE: 163.2820\n",
      "Iteration #37 --- MSE: 545.6974\n",
      "Iteration #38 --- MSE: 217.9690\n",
      "Iteration #39 --- MSE: 218.8940\n",
      "Iteration #40 --- MSE: 125.7558\n",
      "Iteration #41 --- MSE: 238.1479\n",
      "Iteration #42 --- MSE: 307.4762\n",
      "Iteration #43 --- MSE: 90.2918\n",
      "Iteration #44 --- MSE: 358.7460\n",
      "Iteration #45 --- MSE: 121.0170\n",
      "Iteration #46 --- MSE: 113.7932\n",
      "Iteration #47 --- MSE: 238.4007\n",
      "Iteration #48 --- MSE: 116.7692\n",
      "Iteration #49 --- MSE: 244.7468\n",
      "Iteration #50 --- MSE: 135.5403\n"
     ]
    }
   ],
   "source": [
    "mse_list = list()\n",
    "\n",
    "for i in range(50):\n",
    "    # Train test split\n",
    "    X_train, X_test, y_train, y_test = train_test_split(predictors, target, test_size=0.3, random_state=42)\n",
    "    # Compile and train the model\n",
    "    model = baseline_regression_model()\n",
    "    model.fit(X_train, y_train, validation_split=0.3, epochs=50, verbose=0)\n",
    "    # Predict based on test set and calculate MSE\n",
    "    yhat = model.predict(X_test)\n",
    "    mse = mean_squared_error(y_test , yhat)\n",
    "    mse_list.append(mse)\n",
    "    print(\"Iteration #%d --- MSE: %.4f\" % (i+1, mse))"
   ]
  },
  {
   "cell_type": "markdown",
   "metadata": {},
   "source": [
    "### Report the mean and the standard deviation of the mean squared errors"
   ]
  },
  {
   "cell_type": "code",
   "execution_count": 24,
   "metadata": {},
   "outputs": [
    {
     "name": "stdout",
     "output_type": "stream",
     "text": [
      "Mean of MSE: 334.7935\n",
      "Standard deviation of MSE: 296.8284\n"
     ]
    }
   ],
   "source": [
    "print(\"Mean of MSE: %.4f\" % np.mean(mse_list))\n",
    "print(\"Standard deviation of MSE: %.4f\" % np.std(mse_list))"
   ]
  }
 ],
 "metadata": {
  "kernelspec": {
   "display_name": "Python",
   "language": "python",
   "name": "conda-env-python-py"
  },
  "language_info": {
   "codemirror_mode": {
    "name": "ipython",
    "version": 3
   },
   "file_extension": ".py",
   "mimetype": "text/x-python",
   "name": "python",
   "nbconvert_exporter": "python",
   "pygments_lexer": "ipython3",
   "version": "3.6.12"
  }
 },
 "nbformat": 4,
 "nbformat_minor": 4
}
