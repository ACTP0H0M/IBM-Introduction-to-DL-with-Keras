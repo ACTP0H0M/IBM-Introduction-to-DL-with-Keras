{
 "cells": [
  {
   "cell_type": "markdown",
   "metadata": {},
   "source": [
    "# Regression model in Keras\n",
    "## A - Build a baseline model"
   ]
  },
  {
   "cell_type": "markdown",
   "metadata": {},
   "source": [
    "### Import libraries"
   ]
  },
  {
   "cell_type": "code",
   "execution_count": 2,
   "metadata": {},
   "outputs": [],
   "source": [
    "import pandas as pd\n",
    "import numpy as np"
   ]
  },
  {
   "cell_type": "markdown",
   "metadata": {},
   "source": [
    "### Load data"
   ]
  },
  {
   "cell_type": "code",
   "execution_count": 3,
   "metadata": {},
   "outputs": [
    {
     "data": {
      "text/html": [
       "<div>\n",
       "<style scoped>\n",
       "    .dataframe tbody tr th:only-of-type {\n",
       "        vertical-align: middle;\n",
       "    }\n",
       "\n",
       "    .dataframe tbody tr th {\n",
       "        vertical-align: top;\n",
       "    }\n",
       "\n",
       "    .dataframe thead th {\n",
       "        text-align: right;\n",
       "    }\n",
       "</style>\n",
       "<table border=\"1\" class=\"dataframe\">\n",
       "  <thead>\n",
       "    <tr style=\"text-align: right;\">\n",
       "      <th></th>\n",
       "      <th>Cement</th>\n",
       "      <th>Blast Furnace Slag</th>\n",
       "      <th>Fly Ash</th>\n",
       "      <th>Water</th>\n",
       "      <th>Superplasticizer</th>\n",
       "      <th>Coarse Aggregate</th>\n",
       "      <th>Fine Aggregate</th>\n",
       "      <th>Age</th>\n",
       "      <th>Strength</th>\n",
       "    </tr>\n",
       "  </thead>\n",
       "  <tbody>\n",
       "    <tr>\n",
       "      <th>0</th>\n",
       "      <td>540.0</td>\n",
       "      <td>0.0</td>\n",
       "      <td>0.0</td>\n",
       "      <td>162.0</td>\n",
       "      <td>2.5</td>\n",
       "      <td>1040.0</td>\n",
       "      <td>676.0</td>\n",
       "      <td>28</td>\n",
       "      <td>79.99</td>\n",
       "    </tr>\n",
       "    <tr>\n",
       "      <th>1</th>\n",
       "      <td>540.0</td>\n",
       "      <td>0.0</td>\n",
       "      <td>0.0</td>\n",
       "      <td>162.0</td>\n",
       "      <td>2.5</td>\n",
       "      <td>1055.0</td>\n",
       "      <td>676.0</td>\n",
       "      <td>28</td>\n",
       "      <td>61.89</td>\n",
       "    </tr>\n",
       "    <tr>\n",
       "      <th>2</th>\n",
       "      <td>332.5</td>\n",
       "      <td>142.5</td>\n",
       "      <td>0.0</td>\n",
       "      <td>228.0</td>\n",
       "      <td>0.0</td>\n",
       "      <td>932.0</td>\n",
       "      <td>594.0</td>\n",
       "      <td>270</td>\n",
       "      <td>40.27</td>\n",
       "    </tr>\n",
       "    <tr>\n",
       "      <th>3</th>\n",
       "      <td>332.5</td>\n",
       "      <td>142.5</td>\n",
       "      <td>0.0</td>\n",
       "      <td>228.0</td>\n",
       "      <td>0.0</td>\n",
       "      <td>932.0</td>\n",
       "      <td>594.0</td>\n",
       "      <td>365</td>\n",
       "      <td>41.05</td>\n",
       "    </tr>\n",
       "    <tr>\n",
       "      <th>4</th>\n",
       "      <td>198.6</td>\n",
       "      <td>132.4</td>\n",
       "      <td>0.0</td>\n",
       "      <td>192.0</td>\n",
       "      <td>0.0</td>\n",
       "      <td>978.4</td>\n",
       "      <td>825.5</td>\n",
       "      <td>360</td>\n",
       "      <td>44.30</td>\n",
       "    </tr>\n",
       "  </tbody>\n",
       "</table>\n",
       "</div>"
      ],
      "text/plain": [
       "   Cement  Blast Furnace Slag  Fly Ash  Water  Superplasticizer  \\\n",
       "0   540.0                 0.0      0.0  162.0               2.5   \n",
       "1   540.0                 0.0      0.0  162.0               2.5   \n",
       "2   332.5               142.5      0.0  228.0               0.0   \n",
       "3   332.5               142.5      0.0  228.0               0.0   \n",
       "4   198.6               132.4      0.0  192.0               0.0   \n",
       "\n",
       "   Coarse Aggregate  Fine Aggregate  Age  Strength  \n",
       "0            1040.0           676.0   28     79.99  \n",
       "1            1055.0           676.0   28     61.89  \n",
       "2             932.0           594.0  270     40.27  \n",
       "3             932.0           594.0  365     41.05  \n",
       "4             978.4           825.5  360     44.30  "
      ]
     },
     "execution_count": 3,
     "metadata": {},
     "output_type": "execute_result"
    }
   ],
   "source": [
    "concrete_data = pd.read_csv('https://cocl.us/concrete_data')\n",
    "concrete_data.head()"
   ]
  },
  {
   "cell_type": "markdown",
   "metadata": {},
   "source": [
    "Check dataset"
   ]
  },
  {
   "cell_type": "code",
   "execution_count": 4,
   "metadata": {},
   "outputs": [
    {
     "data": {
      "text/plain": [
       "(1030, 9)"
      ]
     },
     "execution_count": 4,
     "metadata": {},
     "output_type": "execute_result"
    }
   ],
   "source": [
    "concrete_data.shape"
   ]
  },
  {
   "cell_type": "code",
   "execution_count": 5,
   "metadata": {},
   "outputs": [
    {
     "data": {
      "text/plain": [
       "Cement                0\n",
       "Blast Furnace Slag    0\n",
       "Fly Ash               0\n",
       "Water                 0\n",
       "Superplasticizer      0\n",
       "Coarse Aggregate      0\n",
       "Fine Aggregate        0\n",
       "Age                   0\n",
       "Strength              0\n",
       "dtype: int64"
      ]
     },
     "execution_count": 5,
     "metadata": {},
     "output_type": "execute_result"
    }
   ],
   "source": [
    "concrete_data.isnull().sum()"
   ]
  },
  {
   "cell_type": "code",
   "execution_count": 6,
   "metadata": {},
   "outputs": [],
   "source": [
    "concrete_data_columns = concrete_data.columns\n",
    "\n",
    "predictors = concrete_data[concrete_data_columns[concrete_data_columns != 'Strength']] # all columns except Strength\n",
    "target = concrete_data['Strength'] # Strength column"
   ]
  },
  {
   "cell_type": "markdown",
   "metadata": {},
   "source": [
    "Sanity check"
   ]
  },
  {
   "cell_type": "code",
   "execution_count": 7,
   "metadata": {},
   "outputs": [
    {
     "data": {
      "text/html": [
       "<div>\n",
       "<style scoped>\n",
       "    .dataframe tbody tr th:only-of-type {\n",
       "        vertical-align: middle;\n",
       "    }\n",
       "\n",
       "    .dataframe tbody tr th {\n",
       "        vertical-align: top;\n",
       "    }\n",
       "\n",
       "    .dataframe thead th {\n",
       "        text-align: right;\n",
       "    }\n",
       "</style>\n",
       "<table border=\"1\" class=\"dataframe\">\n",
       "  <thead>\n",
       "    <tr style=\"text-align: right;\">\n",
       "      <th></th>\n",
       "      <th>Cement</th>\n",
       "      <th>Blast Furnace Slag</th>\n",
       "      <th>Fly Ash</th>\n",
       "      <th>Water</th>\n",
       "      <th>Superplasticizer</th>\n",
       "      <th>Coarse Aggregate</th>\n",
       "      <th>Fine Aggregate</th>\n",
       "      <th>Age</th>\n",
       "    </tr>\n",
       "  </thead>\n",
       "  <tbody>\n",
       "    <tr>\n",
       "      <th>0</th>\n",
       "      <td>540.0</td>\n",
       "      <td>0.0</td>\n",
       "      <td>0.0</td>\n",
       "      <td>162.0</td>\n",
       "      <td>2.5</td>\n",
       "      <td>1040.0</td>\n",
       "      <td>676.0</td>\n",
       "      <td>28</td>\n",
       "    </tr>\n",
       "    <tr>\n",
       "      <th>1</th>\n",
       "      <td>540.0</td>\n",
       "      <td>0.0</td>\n",
       "      <td>0.0</td>\n",
       "      <td>162.0</td>\n",
       "      <td>2.5</td>\n",
       "      <td>1055.0</td>\n",
       "      <td>676.0</td>\n",
       "      <td>28</td>\n",
       "    </tr>\n",
       "    <tr>\n",
       "      <th>2</th>\n",
       "      <td>332.5</td>\n",
       "      <td>142.5</td>\n",
       "      <td>0.0</td>\n",
       "      <td>228.0</td>\n",
       "      <td>0.0</td>\n",
       "      <td>932.0</td>\n",
       "      <td>594.0</td>\n",
       "      <td>270</td>\n",
       "    </tr>\n",
       "    <tr>\n",
       "      <th>3</th>\n",
       "      <td>332.5</td>\n",
       "      <td>142.5</td>\n",
       "      <td>0.0</td>\n",
       "      <td>228.0</td>\n",
       "      <td>0.0</td>\n",
       "      <td>932.0</td>\n",
       "      <td>594.0</td>\n",
       "      <td>365</td>\n",
       "    </tr>\n",
       "    <tr>\n",
       "      <th>4</th>\n",
       "      <td>198.6</td>\n",
       "      <td>132.4</td>\n",
       "      <td>0.0</td>\n",
       "      <td>192.0</td>\n",
       "      <td>0.0</td>\n",
       "      <td>978.4</td>\n",
       "      <td>825.5</td>\n",
       "      <td>360</td>\n",
       "    </tr>\n",
       "  </tbody>\n",
       "</table>\n",
       "</div>"
      ],
      "text/plain": [
       "   Cement  Blast Furnace Slag  Fly Ash  Water  Superplasticizer  \\\n",
       "0   540.0                 0.0      0.0  162.0               2.5   \n",
       "1   540.0                 0.0      0.0  162.0               2.5   \n",
       "2   332.5               142.5      0.0  228.0               0.0   \n",
       "3   332.5               142.5      0.0  228.0               0.0   \n",
       "4   198.6               132.4      0.0  192.0               0.0   \n",
       "\n",
       "   Coarse Aggregate  Fine Aggregate  Age  \n",
       "0            1040.0           676.0   28  \n",
       "1            1055.0           676.0   28  \n",
       "2             932.0           594.0  270  \n",
       "3             932.0           594.0  365  \n",
       "4             978.4           825.5  360  "
      ]
     },
     "execution_count": 7,
     "metadata": {},
     "output_type": "execute_result"
    }
   ],
   "source": [
    "predictors.head()"
   ]
  },
  {
   "cell_type": "code",
   "execution_count": 8,
   "metadata": {},
   "outputs": [
    {
     "data": {
      "text/plain": [
       "0    79.99\n",
       "1    61.89\n",
       "2    40.27\n",
       "3    41.05\n",
       "4    44.30\n",
       "Name: Strength, dtype: float64"
      ]
     },
     "execution_count": 8,
     "metadata": {},
     "output_type": "execute_result"
    }
   ],
   "source": [
    "target.head()"
   ]
  },
  {
   "cell_type": "markdown",
   "metadata": {},
   "source": [
    "Number of independent variables"
   ]
  },
  {
   "cell_type": "code",
   "execution_count": 9,
   "metadata": {},
   "outputs": [],
   "source": [
    "n_cols = predictors.shape[1]"
   ]
  },
  {
   "cell_type": "markdown",
   "metadata": {},
   "source": [
    "Randomly split the data into a training and test sets by holding 30% of the data for testing"
   ]
  },
  {
   "cell_type": "markdown",
   "metadata": {},
   "source": [
    "### Additional step for B: normalize data"
   ]
  },
  {
   "cell_type": "code",
   "execution_count": 27,
   "metadata": {},
   "outputs": [
    {
     "data": {
      "text/html": [
       "<div>\n",
       "<style scoped>\n",
       "    .dataframe tbody tr th:only-of-type {\n",
       "        vertical-align: middle;\n",
       "    }\n",
       "\n",
       "    .dataframe tbody tr th {\n",
       "        vertical-align: top;\n",
       "    }\n",
       "\n",
       "    .dataframe thead th {\n",
       "        text-align: right;\n",
       "    }\n",
       "</style>\n",
       "<table border=\"1\" class=\"dataframe\">\n",
       "  <thead>\n",
       "    <tr style=\"text-align: right;\">\n",
       "      <th></th>\n",
       "      <th>Cement</th>\n",
       "      <th>Blast Furnace Slag</th>\n",
       "      <th>Fly Ash</th>\n",
       "      <th>Water</th>\n",
       "      <th>Superplasticizer</th>\n",
       "      <th>Coarse Aggregate</th>\n",
       "      <th>Fine Aggregate</th>\n",
       "      <th>Age</th>\n",
       "    </tr>\n",
       "  </thead>\n",
       "  <tbody>\n",
       "    <tr>\n",
       "      <th>0</th>\n",
       "      <td>2.476712</td>\n",
       "      <td>-0.856472</td>\n",
       "      <td>-0.846733</td>\n",
       "      <td>-0.916319</td>\n",
       "      <td>-0.620147</td>\n",
       "      <td>0.862735</td>\n",
       "      <td>-1.217079</td>\n",
       "      <td>-0.279597</td>\n",
       "    </tr>\n",
       "    <tr>\n",
       "      <th>1</th>\n",
       "      <td>2.476712</td>\n",
       "      <td>-0.856472</td>\n",
       "      <td>-0.846733</td>\n",
       "      <td>-0.916319</td>\n",
       "      <td>-0.620147</td>\n",
       "      <td>1.055651</td>\n",
       "      <td>-1.217079</td>\n",
       "      <td>-0.279597</td>\n",
       "    </tr>\n",
       "    <tr>\n",
       "      <th>2</th>\n",
       "      <td>0.491187</td>\n",
       "      <td>0.795140</td>\n",
       "      <td>-0.846733</td>\n",
       "      <td>2.174405</td>\n",
       "      <td>-1.038638</td>\n",
       "      <td>-0.526262</td>\n",
       "      <td>-2.239829</td>\n",
       "      <td>3.551340</td>\n",
       "    </tr>\n",
       "    <tr>\n",
       "      <th>3</th>\n",
       "      <td>0.491187</td>\n",
       "      <td>0.795140</td>\n",
       "      <td>-0.846733</td>\n",
       "      <td>2.174405</td>\n",
       "      <td>-1.038638</td>\n",
       "      <td>-0.526262</td>\n",
       "      <td>-2.239829</td>\n",
       "      <td>5.055221</td>\n",
       "    </tr>\n",
       "    <tr>\n",
       "      <th>4</th>\n",
       "      <td>-0.790075</td>\n",
       "      <td>0.678079</td>\n",
       "      <td>-0.846733</td>\n",
       "      <td>0.488555</td>\n",
       "      <td>-1.038638</td>\n",
       "      <td>0.070492</td>\n",
       "      <td>0.647569</td>\n",
       "      <td>4.976069</td>\n",
       "    </tr>\n",
       "  </tbody>\n",
       "</table>\n",
       "</div>"
      ],
      "text/plain": [
       "     Cement  Blast Furnace Slag   Fly Ash     Water  Superplasticizer  \\\n",
       "0  2.476712           -0.856472 -0.846733 -0.916319         -0.620147   \n",
       "1  2.476712           -0.856472 -0.846733 -0.916319         -0.620147   \n",
       "2  0.491187            0.795140 -0.846733  2.174405         -1.038638   \n",
       "3  0.491187            0.795140 -0.846733  2.174405         -1.038638   \n",
       "4 -0.790075            0.678079 -0.846733  0.488555         -1.038638   \n",
       "\n",
       "   Coarse Aggregate  Fine Aggregate       Age  \n",
       "0          0.862735       -1.217079 -0.279597  \n",
       "1          1.055651       -1.217079 -0.279597  \n",
       "2         -0.526262       -2.239829  3.551340  \n",
       "3         -0.526262       -2.239829  5.055221  \n",
       "4          0.070492        0.647569  4.976069  "
      ]
     },
     "execution_count": 27,
     "metadata": {},
     "output_type": "execute_result"
    }
   ],
   "source": [
    "predictors_norm = (predictors - predictors.mean()) / predictors.std()\n",
    "predictors_norm.head()"
   ]
  },
  {
   "cell_type": "code",
   "execution_count": 28,
   "metadata": {},
   "outputs": [
    {
     "name": "stdout",
     "output_type": "stream",
     "text": [
      "Training set shapes: (721, 8) (721,)\n",
      "Testing set shapes: (309, 8) (309,)\n"
     ]
    }
   ],
   "source": [
    "from sklearn.model_selection import train_test_split\n",
    "X_train, X_test, y_train, y_test = train_test_split(predictors_norm, target, test_size=0.3, random_state=42)\n",
    "print('Training set shapes: {} {}'.format(X_train.shape, y_train.shape))\n",
    "print('Testing set shapes: {} {}'.format(X_test.shape, y_test.shape))"
   ]
  },
  {
   "cell_type": "markdown",
   "metadata": {},
   "source": [
    "### Build a neural network\n",
    "\n",
    "Characteristics:\n",
    "\n",
    "* One hidden layer of 10 nodes, and a ReLU activation function\n",
    "* Use the **adam** optimizer and the **mean squared error**  as the loss function"
   ]
  },
  {
   "cell_type": "code",
   "execution_count": 29,
   "metadata": {},
   "outputs": [],
   "source": [
    "import keras\n",
    "from keras.models import Sequential\n",
    "from keras.layers import Dense"
   ]
  },
  {
   "cell_type": "markdown",
   "metadata": {},
   "source": [
    "Define regression model"
   ]
  },
  {
   "cell_type": "code",
   "execution_count": 30,
   "metadata": {},
   "outputs": [],
   "source": [
    "def baseline_regression_model():\n",
    "    # create model\n",
    "    model = Sequential()\n",
    "    model.add(Dense(10, activation='relu', input_shape=(n_cols,)))\n",
    "    model.add(Dense(1))\n",
    "    \n",
    "    # compile model\n",
    "    model.compile(optimizer='adam', loss='mean_squared_error')\n",
    "    return model"
   ]
  },
  {
   "cell_type": "markdown",
   "metadata": {},
   "source": [
    "Compile the model"
   ]
  },
  {
   "cell_type": "code",
   "execution_count": 31,
   "metadata": {},
   "outputs": [],
   "source": [
    "model = baseline_regression_model()"
   ]
  },
  {
   "cell_type": "markdown",
   "metadata": {},
   "source": [
    "### Train the model on the normalized training data using 50 epochs"
   ]
  },
  {
   "cell_type": "code",
   "execution_count": 32,
   "metadata": {},
   "outputs": [
    {
     "name": "stdout",
     "output_type": "stream",
     "text": [
      "Train on 504 samples, validate on 217 samples\n",
      "Epoch 1/50\n",
      "504/504 [==============================] - 3s 7ms/step - loss: 1714.0709 - val_loss: 1579.1366\n",
      "Epoch 2/50\n",
      "504/504 [==============================] - 0s 515us/step - loss: 1700.2464 - val_loss: 1567.5343\n",
      "Epoch 3/50\n",
      "504/504 [==============================] - 0s 550us/step - loss: 1687.4342 - val_loss: 1556.1353\n",
      "Epoch 4/50\n",
      "504/504 [==============================] - 0s 484us/step - loss: 1674.4708 - val_loss: 1545.3319\n",
      "Epoch 5/50\n",
      "504/504 [==============================] - 0s 490us/step - loss: 1662.2581 - val_loss: 1534.6414\n",
      "Epoch 6/50\n",
      "504/504 [==============================] - 1s 1ms/step - loss: 1650.4118 - val_loss: 1524.0501\n",
      "Epoch 7/50\n",
      "504/504 [==============================] - 0s 509us/step - loss: 1638.5095 - val_loss: 1513.8472\n",
      "Epoch 8/50\n",
      "504/504 [==============================] - 0s 477us/step - loss: 1627.2487 - val_loss: 1503.6790\n",
      "Epoch 9/50\n",
      "504/504 [==============================] - 1s 1000us/step - loss: 1615.7989 - val_loss: 1493.5520\n",
      "Epoch 10/50\n",
      "504/504 [==============================] - 0s 743us/step - loss: 1604.5756 - val_loss: 1483.4612\n",
      "Epoch 11/50\n",
      "504/504 [==============================] - 0s 477us/step - loss: 1593.2577 - val_loss: 1473.3545\n",
      "Epoch 12/50\n",
      "504/504 [==============================] - 0s 502us/step - loss: 1582.0424 - val_loss: 1463.2316\n",
      "Epoch 13/50\n",
      "504/504 [==============================] - 0s 712us/step - loss: 1570.7661 - val_loss: 1453.0622\n",
      "Epoch 14/50\n",
      "504/504 [==============================] - 0s 715us/step - loss: 1559.2933 - val_loss: 1442.8935\n",
      "Epoch 15/50\n",
      "504/504 [==============================] - 0s 748us/step - loss: 1548.1505 - val_loss: 1432.2553\n",
      "Epoch 16/50\n",
      "504/504 [==============================] - 0s 869us/step - loss: 1536.3631 - val_loss: 1421.7351\n",
      "Epoch 17/50\n",
      "504/504 [==============================] - 0s 754us/step - loss: 1524.6216 - val_loss: 1410.8892\n",
      "Epoch 18/50\n",
      "504/504 [==============================] - 0s 831us/step - loss: 1512.5799 - val_loss: 1400.0359\n",
      "Epoch 19/50\n",
      "504/504 [==============================] - 0s 672us/step - loss: 1500.6329 - val_loss: 1388.7037\n",
      "Epoch 20/50\n",
      "504/504 [==============================] - 0s 640us/step - loss: 1488.0102 - val_loss: 1377.3780\n",
      "Epoch 21/50\n",
      "504/504 [==============================] - 0s 482us/step - loss: 1475.4368 - val_loss: 1365.7936\n",
      "Epoch 22/50\n",
      "504/504 [==============================] - 0s 518us/step - loss: 1462.5961 - val_loss: 1353.9945\n",
      "Epoch 23/50\n",
      "504/504 [==============================] - 0s 523us/step - loss: 1449.6775 - val_loss: 1342.0237\n",
      "Epoch 24/50\n",
      "504/504 [==============================] - 0s 557us/step - loss: 1436.4875 - val_loss: 1329.7819\n",
      "Epoch 25/50\n",
      "504/504 [==============================] - 0s 530us/step - loss: 1422.8101 - val_loss: 1317.5536\n",
      "Epoch 26/50\n",
      "504/504 [==============================] - 0s 509us/step - loss: 1409.5273 - val_loss: 1304.7846\n",
      "Epoch 27/50\n",
      "504/504 [==============================] - 0s 601us/step - loss: 1395.6195 - val_loss: 1291.9464\n",
      "Epoch 28/50\n",
      "504/504 [==============================] - 0s 597us/step - loss: 1381.3414 - val_loss: 1279.1824\n",
      "Epoch 29/50\n",
      "504/504 [==============================] - 0s 478us/step - loss: 1367.0592 - val_loss: 1266.1268\n",
      "Epoch 30/50\n",
      "504/504 [==============================] - 0s 510us/step - loss: 1352.6211 - val_loss: 1252.7448\n",
      "Epoch 31/50\n",
      "504/504 [==============================] - 0s 480us/step - loss: 1337.8229 - val_loss: 1239.1477\n",
      "Epoch 32/50\n",
      "504/504 [==============================] - 0s 599us/step - loss: 1322.7301 - val_loss: 1225.4575\n",
      "Epoch 33/50\n",
      "504/504 [==============================] - 0s 511us/step - loss: 1307.4310 - val_loss: 1211.4087\n",
      "Epoch 34/50\n",
      "504/504 [==============================] - 0s 512us/step - loss: 1292.0379 - val_loss: 1197.0381\n",
      "Epoch 35/50\n",
      "504/504 [==============================] - 0s 641us/step - loss: 1276.0460 - val_loss: 1182.7636\n",
      "Epoch 36/50\n",
      "504/504 [==============================] - 0s 521us/step - loss: 1260.1429 - val_loss: 1168.4251\n",
      "Epoch 37/50\n",
      "504/504 [==============================] - 0s 436us/step - loss: 1244.3683 - val_loss: 1153.4530\n",
      "Epoch 38/50\n",
      "504/504 [==============================] - 0s 483us/step - loss: 1228.0134 - val_loss: 1138.5835\n",
      "Epoch 39/50\n",
      "504/504 [==============================] - 0s 504us/step - loss: 1211.4888 - val_loss: 1123.6882\n",
      "Epoch 40/50\n",
      "504/504 [==============================] - 0s 506us/step - loss: 1195.0407 - val_loss: 1108.6227\n",
      "Epoch 41/50\n",
      "504/504 [==============================] - 0s 567us/step - loss: 1178.4785 - val_loss: 1093.1685\n",
      "Epoch 42/50\n",
      "504/504 [==============================] - 0s 460us/step - loss: 1161.5769 - val_loss: 1077.7341\n",
      "Epoch 43/50\n",
      "504/504 [==============================] - 0s 487us/step - loss: 1144.7425 - val_loss: 1062.1199\n",
      "Epoch 44/50\n",
      "504/504 [==============================] - ETA: 0s - loss: 1160.52 - 0s 540us/step - loss: 1127.7749 - val_loss: 1046.4775\n",
      "Epoch 45/50\n",
      "504/504 [==============================] - 0s 714us/step - loss: 1110.7209 - val_loss: 1030.8085\n",
      "Epoch 46/50\n",
      "504/504 [==============================] - 0s 513us/step - loss: 1093.4282 - val_loss: 1015.3951\n",
      "Epoch 47/50\n",
      "504/504 [==============================] - 0s 634us/step - loss: 1076.6048 - val_loss: 999.5714\n",
      "Epoch 48/50\n",
      "504/504 [==============================] - 0s 506us/step - loss: 1059.4703 - val_loss: 983.6912\n",
      "Epoch 49/50\n",
      "504/504 [==============================] - 0s 475us/step - loss: 1042.0684 - val_loss: 968.0308\n",
      "Epoch 50/50\n",
      "504/504 [==============================] - 0s 561us/step - loss: 1024.9167 - val_loss: 952.2192\n"
     ]
    },
    {
     "data": {
      "text/plain": [
       "<keras.callbacks.History at 0x7fcfeeb32ac8>"
      ]
     },
     "execution_count": 32,
     "metadata": {},
     "output_type": "execute_result"
    }
   ],
   "source": [
    "model.fit(X_train, y_train, validation_split=0.3, epochs=50, verbose=1)"
   ]
  },
  {
   "cell_type": "markdown",
   "metadata": {},
   "source": [
    "### Evaluate the model on the normalized test data\n",
    "Compute the mean squared error between the predicted concrete strength and the actual concrete strength"
   ]
  },
  {
   "cell_type": "code",
   "execution_count": 33,
   "metadata": {},
   "outputs": [
    {
     "name": "stdout",
     "output_type": "stream",
     "text": [
      "MSE: 930.0869\n"
     ]
    }
   ],
   "source": [
    "from sklearn.metrics import mean_squared_error\n",
    "yhat = model.predict(X_test)\n",
    "print(\"MSE: %.4f\" % mean_squared_error(y_test , yhat))"
   ]
  },
  {
   "cell_type": "markdown",
   "metadata": {},
   "source": [
    "### Repeat splitting, training and evaluation 50 times"
   ]
  },
  {
   "cell_type": "markdown",
   "metadata": {},
   "source": [
    "Create a list of 50 MSE (don't forget to normalize)"
   ]
  },
  {
   "cell_type": "code",
   "execution_count": 34,
   "metadata": {},
   "outputs": [
    {
     "name": "stdout",
     "output_type": "stream",
     "text": [
      "Iteration #1 --- MSE: 788.5825\n",
      "Iteration #2 --- MSE: 575.5257\n",
      "Iteration #3 --- MSE: 584.6038\n",
      "Iteration #4 --- MSE: 622.8724\n",
      "Iteration #5 --- MSE: 540.8183\n",
      "Iteration #6 --- MSE: 628.3225\n",
      "Iteration #7 --- MSE: 444.8380\n",
      "Iteration #8 --- MSE: 622.6691\n",
      "Iteration #9 --- MSE: 735.0844\n",
      "Iteration #10 --- MSE: 709.2830\n",
      "Iteration #11 --- MSE: 515.2374\n",
      "Iteration #12 --- MSE: 601.6213\n",
      "Iteration #13 --- MSE: 696.4471\n",
      "Iteration #14 --- MSE: 582.7383\n",
      "Iteration #15 --- MSE: 790.4270\n",
      "Iteration #16 --- MSE: 714.3932\n",
      "Iteration #17 --- MSE: 601.6921\n",
      "Iteration #18 --- MSE: 649.0747\n",
      "Iteration #19 --- MSE: 686.1694\n",
      "Iteration #20 --- MSE: 628.1253\n",
      "Iteration #21 --- MSE: 779.2245\n",
      "Iteration #22 --- MSE: 721.1636\n",
      "Iteration #23 --- MSE: 639.0287\n",
      "Iteration #24 --- MSE: 743.1776\n",
      "Iteration #25 --- MSE: 690.6295\n",
      "Iteration #26 --- MSE: 671.2903\n",
      "Iteration #27 --- MSE: 825.9683\n",
      "Iteration #28 --- MSE: 537.9190\n",
      "Iteration #29 --- MSE: 502.3863\n",
      "Iteration #30 --- MSE: 552.5596\n",
      "Iteration #31 --- MSE: 610.7293\n",
      "Iteration #32 --- MSE: 771.7849\n",
      "Iteration #33 --- MSE: 564.4161\n",
      "Iteration #34 --- MSE: 586.1515\n",
      "Iteration #35 --- MSE: 609.3545\n",
      "Iteration #36 --- MSE: 473.0674\n",
      "Iteration #37 --- MSE: 605.5920\n",
      "Iteration #38 --- MSE: 804.5133\n",
      "Iteration #39 --- MSE: 537.1048\n",
      "Iteration #40 --- MSE: 920.8393\n",
      "Iteration #41 --- MSE: 763.1542\n",
      "Iteration #42 --- MSE: 550.7143\n",
      "Iteration #43 --- MSE: 575.3568\n",
      "Iteration #44 --- MSE: 418.0162\n",
      "Iteration #45 --- MSE: 742.9897\n",
      "Iteration #46 --- MSE: 963.8922\n",
      "Iteration #47 --- MSE: 481.5461\n",
      "Iteration #48 --- MSE: 799.6763\n",
      "Iteration #49 --- MSE: 873.1515\n",
      "Iteration #50 --- MSE: 602.6325\n"
     ]
    }
   ],
   "source": [
    "mse_list = list()\n",
    "\n",
    "for i in range(50):\n",
    "    # Train test split\n",
    "    X_train, X_test, y_train, y_test = train_test_split(predictors_norm, target, test_size=0.3, random_state=42)\n",
    "    # Compile and train the model\n",
    "    model = baseline_regression_model()\n",
    "    model.fit(X_train, y_train, validation_split=0.3, epochs=50, verbose=0)\n",
    "    # Predict based on test set and calculate MSE\n",
    "    yhat = model.predict(X_test)\n",
    "    mse = mean_squared_error(y_test , yhat)\n",
    "    mse_list.append(mse)\n",
    "    print(\"Iteration #%d --- MSE: %.4f\" % (i+1, mse))"
   ]
  },
  {
   "cell_type": "markdown",
   "metadata": {},
   "source": [
    "### Report the mean and the standard deviation of the mean squared errors"
   ]
  },
  {
   "cell_type": "code",
   "execution_count": 35,
   "metadata": {},
   "outputs": [
    {
     "name": "stdout",
     "output_type": "stream",
     "text": [
      "Mean of MSE: 652.7311\n",
      "Standard deviation of MSE: 120.2288\n"
     ]
    }
   ],
   "source": [
    "print(\"Mean of MSE: %.4f\" % np.mean(mse_list))\n",
    "print(\"Standard deviation of MSE: %.4f\" % np.std(mse_list))"
   ]
  },
  {
   "cell_type": "markdown",
   "metadata": {},
   "source": [
    "The mean of MSE for normalized data (652.7311) was higher than mean MSE from case A (334.7935)"
   ]
  }
 ],
 "metadata": {
  "kernelspec": {
   "display_name": "Python",
   "language": "python",
   "name": "conda-env-python-py"
  },
  "language_info": {
   "codemirror_mode": {
    "name": "ipython",
    "version": 3
   },
   "file_extension": ".py",
   "mimetype": "text/x-python",
   "name": "python",
   "nbconvert_exporter": "python",
   "pygments_lexer": "ipython3",
   "version": "3.6.12"
  }
 },
 "nbformat": 4,
 "nbformat_minor": 4
}
