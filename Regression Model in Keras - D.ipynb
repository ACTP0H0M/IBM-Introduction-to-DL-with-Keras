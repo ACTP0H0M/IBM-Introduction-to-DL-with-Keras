{
 "cells": [
  {
   "cell_type": "markdown",
   "metadata": {},
   "source": [
    "# Regression model in Keras\n",
    "## A - Build a baseline model"
   ]
  },
  {
   "cell_type": "markdown",
   "metadata": {},
   "source": [
    "### Import libraries"
   ]
  },
  {
   "cell_type": "code",
   "execution_count": 1,
   "metadata": {},
   "outputs": [],
   "source": [
    "import pandas as pd\n",
    "import numpy as np"
   ]
  },
  {
   "cell_type": "markdown",
   "metadata": {},
   "source": [
    "### Load data"
   ]
  },
  {
   "cell_type": "code",
   "execution_count": 2,
   "metadata": {},
   "outputs": [
    {
     "data": {
      "text/html": [
       "<div>\n",
       "<style scoped>\n",
       "    .dataframe tbody tr th:only-of-type {\n",
       "        vertical-align: middle;\n",
       "    }\n",
       "\n",
       "    .dataframe tbody tr th {\n",
       "        vertical-align: top;\n",
       "    }\n",
       "\n",
       "    .dataframe thead th {\n",
       "        text-align: right;\n",
       "    }\n",
       "</style>\n",
       "<table border=\"1\" class=\"dataframe\">\n",
       "  <thead>\n",
       "    <tr style=\"text-align: right;\">\n",
       "      <th></th>\n",
       "      <th>Cement</th>\n",
       "      <th>Blast Furnace Slag</th>\n",
       "      <th>Fly Ash</th>\n",
       "      <th>Water</th>\n",
       "      <th>Superplasticizer</th>\n",
       "      <th>Coarse Aggregate</th>\n",
       "      <th>Fine Aggregate</th>\n",
       "      <th>Age</th>\n",
       "      <th>Strength</th>\n",
       "    </tr>\n",
       "  </thead>\n",
       "  <tbody>\n",
       "    <tr>\n",
       "      <th>0</th>\n",
       "      <td>540.0</td>\n",
       "      <td>0.0</td>\n",
       "      <td>0.0</td>\n",
       "      <td>162.0</td>\n",
       "      <td>2.5</td>\n",
       "      <td>1040.0</td>\n",
       "      <td>676.0</td>\n",
       "      <td>28</td>\n",
       "      <td>79.99</td>\n",
       "    </tr>\n",
       "    <tr>\n",
       "      <th>1</th>\n",
       "      <td>540.0</td>\n",
       "      <td>0.0</td>\n",
       "      <td>0.0</td>\n",
       "      <td>162.0</td>\n",
       "      <td>2.5</td>\n",
       "      <td>1055.0</td>\n",
       "      <td>676.0</td>\n",
       "      <td>28</td>\n",
       "      <td>61.89</td>\n",
       "    </tr>\n",
       "    <tr>\n",
       "      <th>2</th>\n",
       "      <td>332.5</td>\n",
       "      <td>142.5</td>\n",
       "      <td>0.0</td>\n",
       "      <td>228.0</td>\n",
       "      <td>0.0</td>\n",
       "      <td>932.0</td>\n",
       "      <td>594.0</td>\n",
       "      <td>270</td>\n",
       "      <td>40.27</td>\n",
       "    </tr>\n",
       "    <tr>\n",
       "      <th>3</th>\n",
       "      <td>332.5</td>\n",
       "      <td>142.5</td>\n",
       "      <td>0.0</td>\n",
       "      <td>228.0</td>\n",
       "      <td>0.0</td>\n",
       "      <td>932.0</td>\n",
       "      <td>594.0</td>\n",
       "      <td>365</td>\n",
       "      <td>41.05</td>\n",
       "    </tr>\n",
       "    <tr>\n",
       "      <th>4</th>\n",
       "      <td>198.6</td>\n",
       "      <td>132.4</td>\n",
       "      <td>0.0</td>\n",
       "      <td>192.0</td>\n",
       "      <td>0.0</td>\n",
       "      <td>978.4</td>\n",
       "      <td>825.5</td>\n",
       "      <td>360</td>\n",
       "      <td>44.30</td>\n",
       "    </tr>\n",
       "  </tbody>\n",
       "</table>\n",
       "</div>"
      ],
      "text/plain": [
       "   Cement  Blast Furnace Slag  Fly Ash  Water  Superplasticizer  \\\n",
       "0   540.0                 0.0      0.0  162.0               2.5   \n",
       "1   540.0                 0.0      0.0  162.0               2.5   \n",
       "2   332.5               142.5      0.0  228.0               0.0   \n",
       "3   332.5               142.5      0.0  228.0               0.0   \n",
       "4   198.6               132.4      0.0  192.0               0.0   \n",
       "\n",
       "   Coarse Aggregate  Fine Aggregate  Age  Strength  \n",
       "0            1040.0           676.0   28     79.99  \n",
       "1            1055.0           676.0   28     61.89  \n",
       "2             932.0           594.0  270     40.27  \n",
       "3             932.0           594.0  365     41.05  \n",
       "4             978.4           825.5  360     44.30  "
      ]
     },
     "execution_count": 2,
     "metadata": {},
     "output_type": "execute_result"
    }
   ],
   "source": [
    "concrete_data = pd.read_csv('https://cocl.us/concrete_data')\n",
    "concrete_data.head()"
   ]
  },
  {
   "cell_type": "markdown",
   "metadata": {},
   "source": [
    "Check dataset"
   ]
  },
  {
   "cell_type": "code",
   "execution_count": 3,
   "metadata": {},
   "outputs": [
    {
     "data": {
      "text/plain": [
       "(1030, 9)"
      ]
     },
     "execution_count": 3,
     "metadata": {},
     "output_type": "execute_result"
    }
   ],
   "source": [
    "concrete_data.shape"
   ]
  },
  {
   "cell_type": "code",
   "execution_count": 4,
   "metadata": {},
   "outputs": [
    {
     "data": {
      "text/plain": [
       "Cement                0\n",
       "Blast Furnace Slag    0\n",
       "Fly Ash               0\n",
       "Water                 0\n",
       "Superplasticizer      0\n",
       "Coarse Aggregate      0\n",
       "Fine Aggregate        0\n",
       "Age                   0\n",
       "Strength              0\n",
       "dtype: int64"
      ]
     },
     "execution_count": 4,
     "metadata": {},
     "output_type": "execute_result"
    }
   ],
   "source": [
    "concrete_data.isnull().sum()"
   ]
  },
  {
   "cell_type": "code",
   "execution_count": 5,
   "metadata": {},
   "outputs": [],
   "source": [
    "concrete_data_columns = concrete_data.columns\n",
    "\n",
    "predictors = concrete_data[concrete_data_columns[concrete_data_columns != 'Strength']] # all columns except Strength\n",
    "target = concrete_data['Strength'] # Strength column"
   ]
  },
  {
   "cell_type": "markdown",
   "metadata": {},
   "source": [
    "Sanity check"
   ]
  },
  {
   "cell_type": "code",
   "execution_count": 6,
   "metadata": {},
   "outputs": [
    {
     "data": {
      "text/html": [
       "<div>\n",
       "<style scoped>\n",
       "    .dataframe tbody tr th:only-of-type {\n",
       "        vertical-align: middle;\n",
       "    }\n",
       "\n",
       "    .dataframe tbody tr th {\n",
       "        vertical-align: top;\n",
       "    }\n",
       "\n",
       "    .dataframe thead th {\n",
       "        text-align: right;\n",
       "    }\n",
       "</style>\n",
       "<table border=\"1\" class=\"dataframe\">\n",
       "  <thead>\n",
       "    <tr style=\"text-align: right;\">\n",
       "      <th></th>\n",
       "      <th>Cement</th>\n",
       "      <th>Blast Furnace Slag</th>\n",
       "      <th>Fly Ash</th>\n",
       "      <th>Water</th>\n",
       "      <th>Superplasticizer</th>\n",
       "      <th>Coarse Aggregate</th>\n",
       "      <th>Fine Aggregate</th>\n",
       "      <th>Age</th>\n",
       "    </tr>\n",
       "  </thead>\n",
       "  <tbody>\n",
       "    <tr>\n",
       "      <th>0</th>\n",
       "      <td>540.0</td>\n",
       "      <td>0.0</td>\n",
       "      <td>0.0</td>\n",
       "      <td>162.0</td>\n",
       "      <td>2.5</td>\n",
       "      <td>1040.0</td>\n",
       "      <td>676.0</td>\n",
       "      <td>28</td>\n",
       "    </tr>\n",
       "    <tr>\n",
       "      <th>1</th>\n",
       "      <td>540.0</td>\n",
       "      <td>0.0</td>\n",
       "      <td>0.0</td>\n",
       "      <td>162.0</td>\n",
       "      <td>2.5</td>\n",
       "      <td>1055.0</td>\n",
       "      <td>676.0</td>\n",
       "      <td>28</td>\n",
       "    </tr>\n",
       "    <tr>\n",
       "      <th>2</th>\n",
       "      <td>332.5</td>\n",
       "      <td>142.5</td>\n",
       "      <td>0.0</td>\n",
       "      <td>228.0</td>\n",
       "      <td>0.0</td>\n",
       "      <td>932.0</td>\n",
       "      <td>594.0</td>\n",
       "      <td>270</td>\n",
       "    </tr>\n",
       "    <tr>\n",
       "      <th>3</th>\n",
       "      <td>332.5</td>\n",
       "      <td>142.5</td>\n",
       "      <td>0.0</td>\n",
       "      <td>228.0</td>\n",
       "      <td>0.0</td>\n",
       "      <td>932.0</td>\n",
       "      <td>594.0</td>\n",
       "      <td>365</td>\n",
       "    </tr>\n",
       "    <tr>\n",
       "      <th>4</th>\n",
       "      <td>198.6</td>\n",
       "      <td>132.4</td>\n",
       "      <td>0.0</td>\n",
       "      <td>192.0</td>\n",
       "      <td>0.0</td>\n",
       "      <td>978.4</td>\n",
       "      <td>825.5</td>\n",
       "      <td>360</td>\n",
       "    </tr>\n",
       "  </tbody>\n",
       "</table>\n",
       "</div>"
      ],
      "text/plain": [
       "   Cement  Blast Furnace Slag  Fly Ash  Water  Superplasticizer  \\\n",
       "0   540.0                 0.0      0.0  162.0               2.5   \n",
       "1   540.0                 0.0      0.0  162.0               2.5   \n",
       "2   332.5               142.5      0.0  228.0               0.0   \n",
       "3   332.5               142.5      0.0  228.0               0.0   \n",
       "4   198.6               132.4      0.0  192.0               0.0   \n",
       "\n",
       "   Coarse Aggregate  Fine Aggregate  Age  \n",
       "0            1040.0           676.0   28  \n",
       "1            1055.0           676.0   28  \n",
       "2             932.0           594.0  270  \n",
       "3             932.0           594.0  365  \n",
       "4             978.4           825.5  360  "
      ]
     },
     "execution_count": 6,
     "metadata": {},
     "output_type": "execute_result"
    }
   ],
   "source": [
    "predictors.head()"
   ]
  },
  {
   "cell_type": "code",
   "execution_count": 7,
   "metadata": {},
   "outputs": [
    {
     "data": {
      "text/plain": [
       "0    79.99\n",
       "1    61.89\n",
       "2    40.27\n",
       "3    41.05\n",
       "4    44.30\n",
       "Name: Strength, dtype: float64"
      ]
     },
     "execution_count": 7,
     "metadata": {},
     "output_type": "execute_result"
    }
   ],
   "source": [
    "target.head()"
   ]
  },
  {
   "cell_type": "markdown",
   "metadata": {},
   "source": [
    "Number of independent variables"
   ]
  },
  {
   "cell_type": "code",
   "execution_count": 8,
   "metadata": {},
   "outputs": [],
   "source": [
    "n_cols = predictors.shape[1]"
   ]
  },
  {
   "cell_type": "markdown",
   "metadata": {},
   "source": [
    "Randomly split the data into a training and test sets by holding 30% of the data for testing"
   ]
  },
  {
   "cell_type": "markdown",
   "metadata": {},
   "source": [
    "### Additional step for B: normalize data"
   ]
  },
  {
   "cell_type": "code",
   "execution_count": 9,
   "metadata": {},
   "outputs": [
    {
     "data": {
      "text/html": [
       "<div>\n",
       "<style scoped>\n",
       "    .dataframe tbody tr th:only-of-type {\n",
       "        vertical-align: middle;\n",
       "    }\n",
       "\n",
       "    .dataframe tbody tr th {\n",
       "        vertical-align: top;\n",
       "    }\n",
       "\n",
       "    .dataframe thead th {\n",
       "        text-align: right;\n",
       "    }\n",
       "</style>\n",
       "<table border=\"1\" class=\"dataframe\">\n",
       "  <thead>\n",
       "    <tr style=\"text-align: right;\">\n",
       "      <th></th>\n",
       "      <th>Cement</th>\n",
       "      <th>Blast Furnace Slag</th>\n",
       "      <th>Fly Ash</th>\n",
       "      <th>Water</th>\n",
       "      <th>Superplasticizer</th>\n",
       "      <th>Coarse Aggregate</th>\n",
       "      <th>Fine Aggregate</th>\n",
       "      <th>Age</th>\n",
       "    </tr>\n",
       "  </thead>\n",
       "  <tbody>\n",
       "    <tr>\n",
       "      <th>0</th>\n",
       "      <td>2.476712</td>\n",
       "      <td>-0.856472</td>\n",
       "      <td>-0.846733</td>\n",
       "      <td>-0.916319</td>\n",
       "      <td>-0.620147</td>\n",
       "      <td>0.862735</td>\n",
       "      <td>-1.217079</td>\n",
       "      <td>-0.279597</td>\n",
       "    </tr>\n",
       "    <tr>\n",
       "      <th>1</th>\n",
       "      <td>2.476712</td>\n",
       "      <td>-0.856472</td>\n",
       "      <td>-0.846733</td>\n",
       "      <td>-0.916319</td>\n",
       "      <td>-0.620147</td>\n",
       "      <td>1.055651</td>\n",
       "      <td>-1.217079</td>\n",
       "      <td>-0.279597</td>\n",
       "    </tr>\n",
       "    <tr>\n",
       "      <th>2</th>\n",
       "      <td>0.491187</td>\n",
       "      <td>0.795140</td>\n",
       "      <td>-0.846733</td>\n",
       "      <td>2.174405</td>\n",
       "      <td>-1.038638</td>\n",
       "      <td>-0.526262</td>\n",
       "      <td>-2.239829</td>\n",
       "      <td>3.551340</td>\n",
       "    </tr>\n",
       "    <tr>\n",
       "      <th>3</th>\n",
       "      <td>0.491187</td>\n",
       "      <td>0.795140</td>\n",
       "      <td>-0.846733</td>\n",
       "      <td>2.174405</td>\n",
       "      <td>-1.038638</td>\n",
       "      <td>-0.526262</td>\n",
       "      <td>-2.239829</td>\n",
       "      <td>5.055221</td>\n",
       "    </tr>\n",
       "    <tr>\n",
       "      <th>4</th>\n",
       "      <td>-0.790075</td>\n",
       "      <td>0.678079</td>\n",
       "      <td>-0.846733</td>\n",
       "      <td>0.488555</td>\n",
       "      <td>-1.038638</td>\n",
       "      <td>0.070492</td>\n",
       "      <td>0.647569</td>\n",
       "      <td>4.976069</td>\n",
       "    </tr>\n",
       "  </tbody>\n",
       "</table>\n",
       "</div>"
      ],
      "text/plain": [
       "     Cement  Blast Furnace Slag   Fly Ash     Water  Superplasticizer  \\\n",
       "0  2.476712           -0.856472 -0.846733 -0.916319         -0.620147   \n",
       "1  2.476712           -0.856472 -0.846733 -0.916319         -0.620147   \n",
       "2  0.491187            0.795140 -0.846733  2.174405         -1.038638   \n",
       "3  0.491187            0.795140 -0.846733  2.174405         -1.038638   \n",
       "4 -0.790075            0.678079 -0.846733  0.488555         -1.038638   \n",
       "\n",
       "   Coarse Aggregate  Fine Aggregate       Age  \n",
       "0          0.862735       -1.217079 -0.279597  \n",
       "1          1.055651       -1.217079 -0.279597  \n",
       "2         -0.526262       -2.239829  3.551340  \n",
       "3         -0.526262       -2.239829  5.055221  \n",
       "4          0.070492        0.647569  4.976069  "
      ]
     },
     "execution_count": 9,
     "metadata": {},
     "output_type": "execute_result"
    }
   ],
   "source": [
    "predictors_norm = (predictors - predictors.mean()) / predictors.std()\n",
    "predictors_norm.head()"
   ]
  },
  {
   "cell_type": "code",
   "execution_count": 10,
   "metadata": {},
   "outputs": [
    {
     "name": "stdout",
     "output_type": "stream",
     "text": [
      "Training set shapes: (721, 8) (721,)\n",
      "Testing set shapes: (309, 8) (309,)\n"
     ]
    }
   ],
   "source": [
    "from sklearn.model_selection import train_test_split\n",
    "X_train, X_test, y_train, y_test = train_test_split(predictors_norm, target, test_size=0.3, random_state=42)\n",
    "print('Training set shapes: {} {}'.format(X_train.shape, y_train.shape))\n",
    "print('Testing set shapes: {} {}'.format(X_test.shape, y_test.shape))"
   ]
  },
  {
   "cell_type": "markdown",
   "metadata": {},
   "source": [
    "### Build a neural network\n",
    "\n",
    "Characteristics:\n",
    "\n",
    "* One hidden layer of 10 nodes, and a ReLU activation function\n",
    "* Use the **adam** optimizer and the **mean squared error**  as the loss function"
   ]
  },
  {
   "cell_type": "code",
   "execution_count": 11,
   "metadata": {},
   "outputs": [
    {
     "name": "stderr",
     "output_type": "stream",
     "text": [
      "Using TensorFlow backend.\n",
      "/home/jupyterlab/conda/envs/python/lib/python3.6/site-packages/tensorflow/python/framework/dtypes.py:519: FutureWarning: Passing (type, 1) or '1type' as a synonym of type is deprecated; in a future version of numpy, it will be understood as (type, (1,)) / '(1,)type'.\n",
      "  _np_qint8 = np.dtype([(\"qint8\", np.int8, 1)])\n",
      "/home/jupyterlab/conda/envs/python/lib/python3.6/site-packages/tensorflow/python/framework/dtypes.py:520: FutureWarning: Passing (type, 1) or '1type' as a synonym of type is deprecated; in a future version of numpy, it will be understood as (type, (1,)) / '(1,)type'.\n",
      "  _np_quint8 = np.dtype([(\"quint8\", np.uint8, 1)])\n",
      "/home/jupyterlab/conda/envs/python/lib/python3.6/site-packages/tensorflow/python/framework/dtypes.py:521: FutureWarning: Passing (type, 1) or '1type' as a synonym of type is deprecated; in a future version of numpy, it will be understood as (type, (1,)) / '(1,)type'.\n",
      "  _np_qint16 = np.dtype([(\"qint16\", np.int16, 1)])\n",
      "/home/jupyterlab/conda/envs/python/lib/python3.6/site-packages/tensorflow/python/framework/dtypes.py:522: FutureWarning: Passing (type, 1) or '1type' as a synonym of type is deprecated; in a future version of numpy, it will be understood as (type, (1,)) / '(1,)type'.\n",
      "  _np_quint16 = np.dtype([(\"quint16\", np.uint16, 1)])\n",
      "/home/jupyterlab/conda/envs/python/lib/python3.6/site-packages/tensorflow/python/framework/dtypes.py:523: FutureWarning: Passing (type, 1) or '1type' as a synonym of type is deprecated; in a future version of numpy, it will be understood as (type, (1,)) / '(1,)type'.\n",
      "  _np_qint32 = np.dtype([(\"qint32\", np.int32, 1)])\n",
      "/home/jupyterlab/conda/envs/python/lib/python3.6/site-packages/tensorflow/python/framework/dtypes.py:528: FutureWarning: Passing (type, 1) or '1type' as a synonym of type is deprecated; in a future version of numpy, it will be understood as (type, (1,)) / '(1,)type'.\n",
      "  np_resource = np.dtype([(\"resource\", np.ubyte, 1)])\n"
     ]
    }
   ],
   "source": [
    "import keras\n",
    "from keras.models import Sequential\n",
    "from keras.layers import Dense"
   ]
  },
  {
   "cell_type": "markdown",
   "metadata": {},
   "source": [
    "Define regression model (Case D: 3 hidden layers)"
   ]
  },
  {
   "cell_type": "code",
   "execution_count": 12,
   "metadata": {},
   "outputs": [],
   "source": [
    "def baseline_regression_model():\n",
    "    # create model\n",
    "    model = Sequential()\n",
    "    model.add(Dense(10, activation='relu', input_shape=(n_cols,)))\n",
    "    model.add(Dense(10, activation='relu'))\n",
    "    model.add(Dense(10, activation='relu'))\n",
    "    model.add(Dense(1))\n",
    "    \n",
    "    # compile model\n",
    "    model.compile(optimizer='adam', loss='mean_squared_error')\n",
    "    return model"
   ]
  },
  {
   "cell_type": "markdown",
   "metadata": {},
   "source": [
    "Compile the model"
   ]
  },
  {
   "cell_type": "code",
   "execution_count": 13,
   "metadata": {},
   "outputs": [],
   "source": [
    "model = baseline_regression_model()"
   ]
  },
  {
   "cell_type": "markdown",
   "metadata": {},
   "source": [
    "### Train the model on the normalized training data using 50 epochs"
   ]
  },
  {
   "cell_type": "code",
   "execution_count": 14,
   "metadata": {},
   "outputs": [
    {
     "name": "stdout",
     "output_type": "stream",
     "text": [
      "Train on 504 samples, validate on 217 samples\n",
      "Epoch 1/50\n",
      "504/504 [==============================] - 1s 2ms/step - loss: 1609.1899 - val_loss: 1476.6919\n",
      "Epoch 2/50\n",
      "504/504 [==============================] - 0s 706us/step - loss: 1593.2775 - val_loss: 1458.9716\n",
      "Epoch 3/50\n",
      "504/504 [==============================] - 0s 503us/step - loss: 1573.3873 - val_loss: 1436.9788\n",
      "Epoch 4/50\n",
      "504/504 [==============================] - 0s 448us/step - loss: 1549.2096 - val_loss: 1407.8237\n",
      "Epoch 5/50\n",
      "504/504 [==============================] - 0s 438us/step - loss: 1516.0656 - val_loss: 1369.4890\n",
      "Epoch 6/50\n",
      "504/504 [==============================] - 0s 523us/step - loss: 1472.4669 - val_loss: 1318.8607\n",
      "Epoch 7/50\n",
      "504/504 [==============================] - 0s 517us/step - loss: 1415.2460 - val_loss: 1255.5677\n",
      "Epoch 8/50\n",
      "504/504 [==============================] - 0s 514us/step - loss: 1342.0195 - val_loss: 1176.8950\n",
      "Epoch 9/50\n",
      "504/504 [==============================] - 0s 474us/step - loss: 1251.4344 - val_loss: 1081.5646\n",
      "Epoch 10/50\n",
      "504/504 [==============================] - 0s 552us/step - loss: 1144.0324 - val_loss: 970.3178\n",
      "Epoch 11/50\n",
      "504/504 [==============================] - 0s 589us/step - loss: 1019.1135 - val_loss: 849.4137\n",
      "Epoch 12/50\n",
      "504/504 [==============================] - 0s 518us/step - loss: 884.3219 - val_loss: 721.6198\n",
      "Epoch 13/50\n",
      "504/504 [==============================] - 0s 473us/step - loss: 745.1583 - val_loss: 599.6431\n",
      "Epoch 14/50\n",
      "504/504 [==============================] - 0s 509us/step - loss: 615.3338 - val_loss: 493.9222\n",
      "Epoch 15/50\n",
      "504/504 [==============================] - 0s 709us/step - loss: 502.9499 - val_loss: 413.4467\n",
      "Epoch 16/50\n",
      "504/504 [==============================] - 0s 588us/step - loss: 420.9468 - val_loss: 352.2707\n",
      "Epoch 17/50\n",
      "504/504 [==============================] - 0s 521us/step - loss: 357.7141 - val_loss: 310.0332\n",
      "Epoch 18/50\n",
      "504/504 [==============================] - 0s 631us/step - loss: 314.3664 - val_loss: 278.2512\n",
      "Epoch 19/50\n",
      "504/504 [==============================] - 0s 554us/step - loss: 284.9733 - val_loss: 253.9096\n",
      "Epoch 20/50\n",
      "504/504 [==============================] - 0s 517us/step - loss: 261.2020 - val_loss: 234.7067\n",
      "Epoch 21/50\n",
      "504/504 [==============================] - 0s 549us/step - loss: 243.8317 - val_loss: 219.5269\n",
      "Epoch 22/50\n",
      "504/504 [==============================] - 0s 521us/step - loss: 230.1494 - val_loss: 207.7406\n",
      "Epoch 23/50\n",
      "504/504 [==============================] - 0s 526us/step - loss: 220.0071 - val_loss: 197.7907\n",
      "Epoch 24/50\n",
      "504/504 [==============================] - 0s 544us/step - loss: 211.0928 - val_loss: 189.6770\n",
      "Epoch 25/50\n",
      "504/504 [==============================] - 0s 553us/step - loss: 203.7556 - val_loss: 183.3128\n",
      "Epoch 26/50\n",
      "504/504 [==============================] - 0s 445us/step - loss: 198.0417 - val_loss: 177.7873\n",
      "Epoch 27/50\n",
      "504/504 [==============================] - 0s 470us/step - loss: 192.6046 - val_loss: 172.9625\n",
      "Epoch 28/50\n",
      "504/504 [==============================] - 0s 593us/step - loss: 187.7764 - val_loss: 169.1865\n",
      "Epoch 29/50\n",
      "504/504 [==============================] - 0s 559us/step - loss: 183.6744 - val_loss: 165.0824\n",
      "Epoch 30/50\n",
      "504/504 [==============================] - 0s 550us/step - loss: 179.5572 - val_loss: 162.6695\n",
      "Epoch 31/50\n",
      "504/504 [==============================] - 0s 473us/step - loss: 175.6920 - val_loss: 159.1725\n",
      "Epoch 32/50\n",
      "504/504 [==============================] - 0s 438us/step - loss: 171.7968 - val_loss: 155.4539\n",
      "Epoch 33/50\n",
      "504/504 [==============================] - 0s 510us/step - loss: 168.3311 - val_loss: 152.6741\n",
      "Epoch 34/50\n",
      "504/504 [==============================] - 0s 783us/step - loss: 164.5384 - val_loss: 149.1539\n",
      "Epoch 35/50\n",
      "504/504 [==============================] - 0s 645us/step - loss: 160.6602 - val_loss: 146.0643\n",
      "Epoch 36/50\n",
      "504/504 [==============================] - 0s 598us/step - loss: 157.3973 - val_loss: 143.4766\n",
      "Epoch 37/50\n",
      "504/504 [==============================] - 0s 478us/step - loss: 154.1937 - val_loss: 140.8624\n",
      "Epoch 38/50\n",
      "504/504 [==============================] - 0s 789us/step - loss: 150.7839 - val_loss: 137.7647\n",
      "Epoch 39/50\n",
      "504/504 [==============================] - 0s 558us/step - loss: 147.8616 - val_loss: 135.3671\n",
      "Epoch 40/50\n",
      "504/504 [==============================] - 0s 717us/step - loss: 144.5273 - val_loss: 133.1778\n",
      "Epoch 41/50\n",
      "504/504 [==============================] - 0s 483us/step - loss: 141.5967 - val_loss: 130.6374\n",
      "Epoch 42/50\n",
      "504/504 [==============================] - 0s 505us/step - loss: 139.1796 - val_loss: 128.4069\n",
      "Epoch 43/50\n",
      "504/504 [==============================] - 0s 397us/step - loss: 136.3909 - val_loss: 126.0556\n",
      "Epoch 44/50\n",
      "504/504 [==============================] - 0s 367us/step - loss: 133.7840 - val_loss: 124.0536\n",
      "Epoch 45/50\n",
      "504/504 [==============================] - 0s 470us/step - loss: 131.4955 - val_loss: 122.4555\n",
      "Epoch 46/50\n",
      "504/504 [==============================] - 0s 512us/step - loss: 128.4617 - val_loss: 120.6455\n",
      "Epoch 47/50\n",
      "504/504 [==============================] - 0s 753us/step - loss: 126.2110 - val_loss: 118.5816\n",
      "Epoch 48/50\n",
      "504/504 [==============================] - 0s 476us/step - loss: 123.5367 - val_loss: 116.6687\n",
      "Epoch 49/50\n",
      "504/504 [==============================] - 0s 469us/step - loss: 121.0641 - val_loss: 114.7674\n",
      "Epoch 50/50\n",
      "504/504 [==============================] - 0s 641us/step - loss: 118.8146 - val_loss: 113.5173\n"
     ]
    },
    {
     "data": {
      "text/plain": [
       "<keras.callbacks.History at 0x7f3ee94612e8>"
      ]
     },
     "execution_count": 14,
     "metadata": {},
     "output_type": "execute_result"
    }
   ],
   "source": [
    "model.fit(X_train, y_train, validation_split=0.3, epochs=50, verbose=1)"
   ]
  },
  {
   "cell_type": "markdown",
   "metadata": {},
   "source": [
    "### Evaluate the model on the normalized test data\n",
    "Compute the mean squared error between the predicted concrete strength and the actual concrete strength"
   ]
  },
  {
   "cell_type": "code",
   "execution_count": 15,
   "metadata": {},
   "outputs": [
    {
     "name": "stdout",
     "output_type": "stream",
     "text": [
      "MSE: 119.3276\n"
     ]
    }
   ],
   "source": [
    "from sklearn.metrics import mean_squared_error\n",
    "yhat = model.predict(X_test)\n",
    "print(\"MSE: %.4f\" % mean_squared_error(y_test , yhat))"
   ]
  },
  {
   "cell_type": "markdown",
   "metadata": {},
   "source": [
    "### Repeat splitting, training and evaluation 50 times"
   ]
  },
  {
   "cell_type": "markdown",
   "metadata": {},
   "source": [
    "Create a list of 50 MSE (don't forget to normalize)"
   ]
  },
  {
   "cell_type": "code",
   "execution_count": 16,
   "metadata": {},
   "outputs": [
    {
     "name": "stdout",
     "output_type": "stream",
     "text": [
      "Iteration #1 --- MSE: 140.9516\n",
      "Iteration #2 --- MSE: 141.1927\n",
      "Iteration #3 --- MSE: 149.4404\n",
      "Iteration #4 --- MSE: 138.3745\n",
      "Iteration #5 --- MSE: 152.5499\n",
      "Iteration #6 --- MSE: 141.6761\n",
      "Iteration #7 --- MSE: 132.9654\n",
      "Iteration #8 --- MSE: 139.6274\n",
      "Iteration #9 --- MSE: 148.3543\n",
      "Iteration #10 --- MSE: 141.9607\n",
      "Iteration #11 --- MSE: 142.6252\n",
      "Iteration #12 --- MSE: 140.7928\n",
      "Iteration #13 --- MSE: 157.9390\n",
      "Iteration #14 --- MSE: 152.2507\n",
      "Iteration #15 --- MSE: 155.0378\n",
      "Iteration #16 --- MSE: 134.7968\n",
      "Iteration #17 --- MSE: 147.2025\n",
      "Iteration #18 --- MSE: 138.1682\n",
      "Iteration #19 --- MSE: 137.1715\n",
      "Iteration #20 --- MSE: 156.9727\n",
      "Iteration #21 --- MSE: 152.2563\n",
      "Iteration #22 --- MSE: 143.6638\n",
      "Iteration #23 --- MSE: 138.9471\n",
      "Iteration #24 --- MSE: 154.6431\n",
      "Iteration #25 --- MSE: 150.7455\n",
      "Iteration #26 --- MSE: 143.1762\n",
      "Iteration #27 --- MSE: 133.1164\n",
      "Iteration #28 --- MSE: 133.7625\n",
      "Iteration #29 --- MSE: 142.0956\n",
      "Iteration #30 --- MSE: 151.6139\n",
      "Iteration #31 --- MSE: 150.0335\n",
      "Iteration #32 --- MSE: 153.2191\n",
      "Iteration #33 --- MSE: 144.8884\n",
      "Iteration #34 --- MSE: 142.0122\n",
      "Iteration #35 --- MSE: 145.5323\n",
      "Iteration #36 --- MSE: 138.4403\n",
      "Iteration #37 --- MSE: 143.4074\n",
      "Iteration #38 --- MSE: 145.4455\n",
      "Iteration #39 --- MSE: 144.6776\n",
      "Iteration #40 --- MSE: 118.6591\n",
      "Iteration #41 --- MSE: 136.7591\n",
      "Iteration #42 --- MSE: 127.8063\n",
      "Iteration #43 --- MSE: 138.6337\n",
      "Iteration #44 --- MSE: 125.4739\n",
      "Iteration #45 --- MSE: 148.4513\n",
      "Iteration #46 --- MSE: 156.6866\n",
      "Iteration #47 --- MSE: 146.6012\n",
      "Iteration #48 --- MSE: 146.3269\n",
      "Iteration #49 --- MSE: 145.0610\n",
      "Iteration #50 --- MSE: 141.1294\n"
     ]
    }
   ],
   "source": [
    "mse_list = list()\n",
    "\n",
    "for i in range(50):\n",
    "    # Train test split\n",
    "    X_train, X_test, y_train, y_test = train_test_split(predictors_norm, target, test_size=0.3, random_state=42)\n",
    "    # Compile and train the model\n",
    "    model = baseline_regression_model()\n",
    "    model.fit(X_train, y_train, validation_split=0.3, epochs=50, verbose=0)\n",
    "    # Predict based on test set and calculate MSE\n",
    "    yhat = model.predict(X_test)\n",
    "    mse = mean_squared_error(y_test , yhat)\n",
    "    mse_list.append(mse)\n",
    "    print(\"Iteration #%d --- MSE: %.4f\" % (i+1, mse))"
   ]
  },
  {
   "cell_type": "markdown",
   "metadata": {},
   "source": [
    "### Report the mean and the standard deviation of the mean squared errors"
   ]
  },
  {
   "cell_type": "code",
   "execution_count": 17,
   "metadata": {},
   "outputs": [
    {
     "name": "stdout",
     "output_type": "stream",
     "text": [
      "Mean of MSE: 143.4663\n",
      "Standard deviation of MSE: 8.0976\n"
     ]
    }
   ],
   "source": [
    "print(\"Mean of MSE: %.4f\" % np.mean(mse_list))\n",
    "print(\"Standard deviation of MSE: %.4f\" % np.std(mse_list))"
   ]
  },
  {
   "cell_type": "markdown",
   "metadata": {},
   "source": [
    "The mean of MSE in case D (143.4663) was ~4.5 times less than the mean of MSE for normalized data in case B (652.7311)"
   ]
  },
  {
   "cell_type": "code",
   "execution_count": null,
   "metadata": {},
   "outputs": [],
   "source": []
  }
 ],
 "metadata": {
  "kernelspec": {
   "display_name": "Python",
   "language": "python",
   "name": "conda-env-python-py"
  },
  "language_info": {
   "codemirror_mode": {
    "name": "ipython",
    "version": 3
   },
   "file_extension": ".py",
   "mimetype": "text/x-python",
   "name": "python",
   "nbconvert_exporter": "python",
   "pygments_lexer": "ipython3",
   "version": "3.6.12"
  }
 },
 "nbformat": 4,
 "nbformat_minor": 4
}
